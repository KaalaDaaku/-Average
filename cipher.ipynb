{
  "nbformat": 4,
  "nbformat_minor": 0,
  "metadata": {
    "colab": {
      "provenance": [],
      "authorship_tag": "ABX9TyOOofAwmwPEu+HYnoT+9Mog",
      "include_colab_link": true
    },
    "kernelspec": {
      "name": "python3",
      "display_name": "Python 3"
    },
    "language_info": {
      "name": "python"
    }
  },
  "cells": [
    {
      "cell_type": "markdown",
      "metadata": {
        "id": "view-in-github",
        "colab_type": "text"
      },
      "source": [
        "<a href=\"https://colab.research.google.com/github/KaalaDaaku/-Average/blob/main/cipher.ipynb\" target=\"_parent\"><img src=\"https://colab.research.google.com/assets/colab-badge.svg\" alt=\"Open In Colab\"/></a>"
      ]
    },
    {
      "cell_type": "code",
      "execution_count": null,
      "metadata": {
        "colab": {
          "base_uri": "https://localhost:8080/"
        },
        "id": "lRPuV2tJmuTu",
        "outputId": "59413e16-393b-4002-d851-8f68fd4a3d78"
      },
      "outputs": [
        {
          "output_type": "stream",
          "name": "stdout",
          "text": [
            "Enter the text to be encryted::rohan\n",
            "The encryted string is  vsler\n",
            "Enter the text to be decrypted::lipps\n",
            "The decryted string is  hello\n"
          ]
        }
      ],
      "source": [
        "all_letters= \"abcdefghijklmnopqrstuvwxyzABCDEFGHIJKLMNOPQRSTUVWXYZ\"\n",
        "\n",
        "dict1={}\n",
        "key =4\n",
        "\n",
        "for i in range(len(all_letters)):\n",
        "  dict1[all_letters[i]]= all_letters[(key+i)%len(all_letters)]\n",
        "\n",
        "plain_text=input(\"Enter the text to be encryted::\")\n",
        "\n",
        "cipher_text=[]\n",
        "\n",
        "for char in plain_text:\n",
        " if char in all_letters:\n",
        "  temp = dict1[char]\n",
        "  cipher_text.append(temp)\n",
        "\n",
        " else:\n",
        "    temp = char\n",
        "    cipher_text.append(temp)\n",
        "\n",
        "cipher_text=\"\".join(cipher_text)\n",
        "print(\"The encryted string is \" ,cipher_text)\n",
        "\n",
        "dict2={}\n",
        "\n",
        "for i in range(len(all_letters)):\n",
        "  dict2[all_letters[i]]= all_letters[(i-key)%len(all_letters)]\n",
        "\n",
        "plain_text=input(\"Enter the text to be decrypted::\")\n",
        "\n",
        "decrypted_text=[]\n",
        "\n",
        "for char in plain_text:\n",
        " if char in all_letters:\n",
        "  temp = dict2[char]\n",
        "  decrypted_text.append(temp)\n",
        "\n",
        " else:\n",
        "    temp = char\n",
        "    decrypted_text.append(temp)\n",
        "\n",
        "decrypted_text=\"\".join(decrypted_text)\n",
        "print(\"The decryted string is \" ,decrypted_text)\n"
      ]
    },
    {
      "cell_type": "code",
      "source": [],
      "metadata": {
        "id": "zEaBMhRDs5ey"
      },
      "execution_count": null,
      "outputs": []
    }
  ]
}